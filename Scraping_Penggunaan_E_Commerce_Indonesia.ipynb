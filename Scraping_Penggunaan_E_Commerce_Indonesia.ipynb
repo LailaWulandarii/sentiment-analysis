{
  "nbformat": 4,
  "nbformat_minor": 0,
  "metadata": {
    "colab": {
      "provenance": []
    },
    "kernelspec": {
      "name": "python3",
      "display_name": "Python 3"
    },
    "language_info": {
      "name": "python"
    }
  },
  "cells": [
    {
      "cell_type": "markdown",
      "source": [
        "# Analisis Sentimen Pengguna Aplikasi E-Commerce di Indonesia"
      ],
      "metadata": {
        "id": "IGEJBjzEYNxO"
      }
    },
    {
      "cell_type": "markdown",
      "source": [
        "Pada file ini dilakukan proses scraping review di Google Play Store dari beberapa aplikasi E-Commerce di Indonesia, seperti Shopee, Lazada, dan Tokopedia."
      ],
      "metadata": {
        "id": "4G4FeCNvq-6X"
      }
    },
    {
      "cell_type": "markdown",
      "source": [
        "## 1. Instalasi dan Import Library/Package"
      ],
      "metadata": {
        "id": "q58KhRGippl3"
      }
    },
    {
      "cell_type": "code",
      "execution_count": null,
      "metadata": {
        "colab": {
          "base_uri": "https://localhost:8080/"
        },
        "id": "RbCgX2BpmiK0",
        "outputId": "ddf2df80-3fa3-41a9-b3bf-956f21d5d854"
      },
      "outputs": [
        {
          "output_type": "stream",
          "name": "stdout",
          "text": [
            "Requirement already satisfied: google-play-scraper in /usr/local/lib/python3.11/dist-packages (1.2.7)\n"
          ]
        }
      ],
      "source": [
        "#Instalasi Scraper\n",
        "!pip install google-play-scraper"
      ]
    },
    {
      "cell_type": "markdown",
      "source": [
        "Instalasi package google play scraper untuk mengambil data aplikasi dari Google Play Store."
      ],
      "metadata": {
        "id": "GK1UAh_VYJXs"
      }
    },
    {
      "cell_type": "code",
      "source": [
        "#Import library yang dibutuhkan\n",
        "from google_play_scraper import Sort, reviews\n",
        "from google.colab import files\n",
        "import pandas as pd"
      ],
      "metadata": {
        "id": "321kvQdSZl-7"
      },
      "execution_count": null,
      "outputs": []
    },
    {
      "cell_type": "markdown",
      "source": [
        "1. Sort dan reviews: untuk mengambilkan dan mengurutkan review aplikasi dari Google Play Store.\n",
        "2. Files: untuk mengunduh file langsung ke lokal.\n",
        "3. Pandas: Library untuk manipulasi data tabular."
      ],
      "metadata": {
        "id": "_yNLnLihh-RY"
      }
    },
    {
      "cell_type": "markdown",
      "source": [
        "## 2. Scraping Data"
      ],
      "metadata": {
        "id": "ftm1YteMpzkb"
      }
    },
    {
      "cell_type": "code",
      "source": [
        "#Aplikasi yang ingin di-scrape\n",
        "apps = {\n",
        "    'Shopee': 'com.shopee.id',\n",
        "    'Tokopedia': 'com.tokopedia.tkpd',\n",
        "    'Lazada': 'com.lazada.android'\n",
        "}\n",
        "\n",
        "#List untuk menyimpan semua review\n",
        "all_reviews = []\n",
        "\n",
        "#Loop untuk scraping tiap aplikasi\n",
        "for app_name, package in apps.items():\n",
        "    print(f\"Scraping {app_name}...\")\n",
        "    result, _ = reviews(\n",
        "        package,\n",
        "        lang='id',\n",
        "        country='id',\n",
        "        sort=Sort.NEWEST,\n",
        "        count=6000\n",
        "    )\n",
        "\n",
        "    df = pd.DataFrame(result)[['userName', 'score', 'content']]\n",
        "    df['App'] = app_name\n",
        "    all_reviews.append(df)\n",
        "\n",
        "#Menggabungkan semua dataframe\n",
        "combined_df = pd.concat(all_reviews, ignore_index=True)\n",
        "\n",
        "#Rename beberapa kolom pada dataframe\n",
        "combined_df.rename(columns={\n",
        "    'userName': 'Username',\n",
        "    'score': 'Rating',\n",
        "    'content': 'Review'\n",
        "}, inplace=True)\n",
        "\n",
        "#Menampilkan total review\n",
        "print(f\"Scraping selesai, total review: {len(combined_df)}\")\n"
      ],
      "metadata": {
        "id": "5OYdqWRcnByc",
        "colab": {
          "base_uri": "https://localhost:8080/"
        },
        "outputId": "b1f5f307-d015-4b34-890c-3c030d056d5f"
      },
      "execution_count": null,
      "outputs": [
        {
          "output_type": "stream",
          "name": "stdout",
          "text": [
            "Scraping Shopee...\n",
            "Scraping Tokopedia...\n",
            "Scraping Lazada...\n",
            "Scraping selesai, total review: 18000\n"
          ]
        }
      ]
    },
    {
      "cell_type": "markdown",
      "source": [
        "Analisa:\n",
        "\n",
        "\n",
        "*   Mendefinisikan aplikasi target (Shopee, Tokopedia, Lazada) beserta package name-nya.\n",
        "*   Melakukan scraping review sebanyak 6000 per aplikasi, menggunakan bahasa dan negara Indonesia, serta mengurutkan review terbaru.\n",
        "*   Hanya kolom penting yang diambil: userName, score, content, lalu ditambahkan nama aplikasi (App).\n",
        "*   Semua review dari berbagai aplikasi digabungkan jadi satu DataFrame.\n",
        "*   Kolom diubah namanya supaya lebih rapi dan mudah dimengerti (Username, Rating, Review)."
      ],
      "metadata": {
        "id": "9hYvcNRhkVmt"
      }
    },
    {
      "cell_type": "markdown",
      "source": [
        "## 3. Cleaning Data"
      ],
      "metadata": {
        "id": "GS-tiQjNqBFw"
      }
    },
    {
      "cell_type": "code",
      "source": [
        "#Hapus data dengan review yang kosong\n",
        "combined_df.dropna(subset=['Review'], inplace=True)\n",
        "#Hapus duplikat data user dan review\n",
        "combined_df.drop_duplicates(subset=['Username', 'Review'], inplace=True)\n",
        "#Hapus spasi di awal/akhir\n",
        "combined_df['Review'] = combined_df['Review'].str.strip()\n",
        "\n",
        "#Menampilkan jumlah dan preview data setelah cleaning\n",
        "print(f\"Jumlah data: {len(combined_df)}\")\n",
        "combined_df.head()\n"
      ],
      "metadata": {
        "colab": {
          "base_uri": "https://localhost:8080/",
          "height": 224
        },
        "id": "sQJTew_Zyfsg",
        "outputId": "f275e7cb-2013-4455-c827-e2f81e0923e0"
      },
      "execution_count": null,
      "outputs": [
        {
          "output_type": "stream",
          "name": "stdout",
          "text": [
            "Jumlah data: 14639\n"
          ]
        },
        {
          "output_type": "execute_result",
          "data": {
            "text/plain": [
              "          Username  Rating                                             Review  \\\n",
              "0  Pengguna Google       1  kokgitu banyak perodak yg laku tapi komisi tid...   \n",
              "1  Pengguna Google       5  gw suka banget sama shopee pengantarannya cepa...   \n",
              "2  Pengguna Google       5                                              bagus   \n",
              "3  Pengguna Google       5                                             Mantap   \n",
              "4  Pengguna Google       5                                        sangat puas   \n",
              "\n",
              "      App  \n",
              "0  Shopee  \n",
              "1  Shopee  \n",
              "2  Shopee  \n",
              "3  Shopee  \n",
              "4  Shopee  "
            ],
            "text/html": [
              "\n",
              "  <div id=\"df-4a22cd2e-732a-4b69-a249-744b4130d685\" class=\"colab-df-container\">\n",
              "    <div>\n",
              "<style scoped>\n",
              "    .dataframe tbody tr th:only-of-type {\n",
              "        vertical-align: middle;\n",
              "    }\n",
              "\n",
              "    .dataframe tbody tr th {\n",
              "        vertical-align: top;\n",
              "    }\n",
              "\n",
              "    .dataframe thead th {\n",
              "        text-align: right;\n",
              "    }\n",
              "</style>\n",
              "<table border=\"1\" class=\"dataframe\">\n",
              "  <thead>\n",
              "    <tr style=\"text-align: right;\">\n",
              "      <th></th>\n",
              "      <th>Username</th>\n",
              "      <th>Rating</th>\n",
              "      <th>Review</th>\n",
              "      <th>App</th>\n",
              "    </tr>\n",
              "  </thead>\n",
              "  <tbody>\n",
              "    <tr>\n",
              "      <th>0</th>\n",
              "      <td>Pengguna Google</td>\n",
              "      <td>1</td>\n",
              "      <td>kokgitu banyak perodak yg laku tapi komisi tid...</td>\n",
              "      <td>Shopee</td>\n",
              "    </tr>\n",
              "    <tr>\n",
              "      <th>1</th>\n",
              "      <td>Pengguna Google</td>\n",
              "      <td>5</td>\n",
              "      <td>gw suka banget sama shopee pengantarannya cepa...</td>\n",
              "      <td>Shopee</td>\n",
              "    </tr>\n",
              "    <tr>\n",
              "      <th>2</th>\n",
              "      <td>Pengguna Google</td>\n",
              "      <td>5</td>\n",
              "      <td>bagus</td>\n",
              "      <td>Shopee</td>\n",
              "    </tr>\n",
              "    <tr>\n",
              "      <th>3</th>\n",
              "      <td>Pengguna Google</td>\n",
              "      <td>5</td>\n",
              "      <td>Mantap</td>\n",
              "      <td>Shopee</td>\n",
              "    </tr>\n",
              "    <tr>\n",
              "      <th>4</th>\n",
              "      <td>Pengguna Google</td>\n",
              "      <td>5</td>\n",
              "      <td>sangat puas</td>\n",
              "      <td>Shopee</td>\n",
              "    </tr>\n",
              "  </tbody>\n",
              "</table>\n",
              "</div>\n",
              "    <div class=\"colab-df-buttons\">\n",
              "\n",
              "  <div class=\"colab-df-container\">\n",
              "    <button class=\"colab-df-convert\" onclick=\"convertToInteractive('df-4a22cd2e-732a-4b69-a249-744b4130d685')\"\n",
              "            title=\"Convert this dataframe to an interactive table.\"\n",
              "            style=\"display:none;\">\n",
              "\n",
              "  <svg xmlns=\"http://www.w3.org/2000/svg\" height=\"24px\" viewBox=\"0 -960 960 960\">\n",
              "    <path d=\"M120-120v-720h720v720H120Zm60-500h600v-160H180v160Zm220 220h160v-160H400v160Zm0 220h160v-160H400v160ZM180-400h160v-160H180v160Zm440 0h160v-160H620v160ZM180-180h160v-160H180v160Zm440 0h160v-160H620v160Z\"/>\n",
              "  </svg>\n",
              "    </button>\n",
              "\n",
              "  <style>\n",
              "    .colab-df-container {\n",
              "      display:flex;\n",
              "      gap: 12px;\n",
              "    }\n",
              "\n",
              "    .colab-df-convert {\n",
              "      background-color: #E8F0FE;\n",
              "      border: none;\n",
              "      border-radius: 50%;\n",
              "      cursor: pointer;\n",
              "      display: none;\n",
              "      fill: #1967D2;\n",
              "      height: 32px;\n",
              "      padding: 0 0 0 0;\n",
              "      width: 32px;\n",
              "    }\n",
              "\n",
              "    .colab-df-convert:hover {\n",
              "      background-color: #E2EBFA;\n",
              "      box-shadow: 0px 1px 2px rgba(60, 64, 67, 0.3), 0px 1px 3px 1px rgba(60, 64, 67, 0.15);\n",
              "      fill: #174EA6;\n",
              "    }\n",
              "\n",
              "    .colab-df-buttons div {\n",
              "      margin-bottom: 4px;\n",
              "    }\n",
              "\n",
              "    [theme=dark] .colab-df-convert {\n",
              "      background-color: #3B4455;\n",
              "      fill: #D2E3FC;\n",
              "    }\n",
              "\n",
              "    [theme=dark] .colab-df-convert:hover {\n",
              "      background-color: #434B5C;\n",
              "      box-shadow: 0px 1px 3px 1px rgba(0, 0, 0, 0.15);\n",
              "      filter: drop-shadow(0px 1px 2px rgba(0, 0, 0, 0.3));\n",
              "      fill: #FFFFFF;\n",
              "    }\n",
              "  </style>\n",
              "\n",
              "    <script>\n",
              "      const buttonEl =\n",
              "        document.querySelector('#df-4a22cd2e-732a-4b69-a249-744b4130d685 button.colab-df-convert');\n",
              "      buttonEl.style.display =\n",
              "        google.colab.kernel.accessAllowed ? 'block' : 'none';\n",
              "\n",
              "      async function convertToInteractive(key) {\n",
              "        const element = document.querySelector('#df-4a22cd2e-732a-4b69-a249-744b4130d685');\n",
              "        const dataTable =\n",
              "          await google.colab.kernel.invokeFunction('convertToInteractive',\n",
              "                                                    [key], {});\n",
              "        if (!dataTable) return;\n",
              "\n",
              "        const docLinkHtml = 'Like what you see? Visit the ' +\n",
              "          '<a target=\"_blank\" href=https://colab.research.google.com/notebooks/data_table.ipynb>data table notebook</a>'\n",
              "          + ' to learn more about interactive tables.';\n",
              "        element.innerHTML = '';\n",
              "        dataTable['output_type'] = 'display_data';\n",
              "        await google.colab.output.renderOutput(dataTable, element);\n",
              "        const docLink = document.createElement('div');\n",
              "        docLink.innerHTML = docLinkHtml;\n",
              "        element.appendChild(docLink);\n",
              "      }\n",
              "    </script>\n",
              "  </div>\n",
              "\n",
              "\n",
              "<div id=\"df-de5dcc3c-7213-458f-93e0-c26f7048ab0d\">\n",
              "  <button class=\"colab-df-quickchart\" onclick=\"quickchart('df-de5dcc3c-7213-458f-93e0-c26f7048ab0d')\"\n",
              "            title=\"Suggest charts\"\n",
              "            style=\"display:none;\">\n",
              "\n",
              "<svg xmlns=\"http://www.w3.org/2000/svg\" height=\"24px\"viewBox=\"0 0 24 24\"\n",
              "     width=\"24px\">\n",
              "    <g>\n",
              "        <path d=\"M19 3H5c-1.1 0-2 .9-2 2v14c0 1.1.9 2 2 2h14c1.1 0 2-.9 2-2V5c0-1.1-.9-2-2-2zM9 17H7v-7h2v7zm4 0h-2V7h2v10zm4 0h-2v-4h2v4z\"/>\n",
              "    </g>\n",
              "</svg>\n",
              "  </button>\n",
              "\n",
              "<style>\n",
              "  .colab-df-quickchart {\n",
              "      --bg-color: #E8F0FE;\n",
              "      --fill-color: #1967D2;\n",
              "      --hover-bg-color: #E2EBFA;\n",
              "      --hover-fill-color: #174EA6;\n",
              "      --disabled-fill-color: #AAA;\n",
              "      --disabled-bg-color: #DDD;\n",
              "  }\n",
              "\n",
              "  [theme=dark] .colab-df-quickchart {\n",
              "      --bg-color: #3B4455;\n",
              "      --fill-color: #D2E3FC;\n",
              "      --hover-bg-color: #434B5C;\n",
              "      --hover-fill-color: #FFFFFF;\n",
              "      --disabled-bg-color: #3B4455;\n",
              "      --disabled-fill-color: #666;\n",
              "  }\n",
              "\n",
              "  .colab-df-quickchart {\n",
              "    background-color: var(--bg-color);\n",
              "    border: none;\n",
              "    border-radius: 50%;\n",
              "    cursor: pointer;\n",
              "    display: none;\n",
              "    fill: var(--fill-color);\n",
              "    height: 32px;\n",
              "    padding: 0;\n",
              "    width: 32px;\n",
              "  }\n",
              "\n",
              "  .colab-df-quickchart:hover {\n",
              "    background-color: var(--hover-bg-color);\n",
              "    box-shadow: 0 1px 2px rgba(60, 64, 67, 0.3), 0 1px 3px 1px rgba(60, 64, 67, 0.15);\n",
              "    fill: var(--button-hover-fill-color);\n",
              "  }\n",
              "\n",
              "  .colab-df-quickchart-complete:disabled,\n",
              "  .colab-df-quickchart-complete:disabled:hover {\n",
              "    background-color: var(--disabled-bg-color);\n",
              "    fill: var(--disabled-fill-color);\n",
              "    box-shadow: none;\n",
              "  }\n",
              "\n",
              "  .colab-df-spinner {\n",
              "    border: 2px solid var(--fill-color);\n",
              "    border-color: transparent;\n",
              "    border-bottom-color: var(--fill-color);\n",
              "    animation:\n",
              "      spin 1s steps(1) infinite;\n",
              "  }\n",
              "\n",
              "  @keyframes spin {\n",
              "    0% {\n",
              "      border-color: transparent;\n",
              "      border-bottom-color: var(--fill-color);\n",
              "      border-left-color: var(--fill-color);\n",
              "    }\n",
              "    20% {\n",
              "      border-color: transparent;\n",
              "      border-left-color: var(--fill-color);\n",
              "      border-top-color: var(--fill-color);\n",
              "    }\n",
              "    30% {\n",
              "      border-color: transparent;\n",
              "      border-left-color: var(--fill-color);\n",
              "      border-top-color: var(--fill-color);\n",
              "      border-right-color: var(--fill-color);\n",
              "    }\n",
              "    40% {\n",
              "      border-color: transparent;\n",
              "      border-right-color: var(--fill-color);\n",
              "      border-top-color: var(--fill-color);\n",
              "    }\n",
              "    60% {\n",
              "      border-color: transparent;\n",
              "      border-right-color: var(--fill-color);\n",
              "    }\n",
              "    80% {\n",
              "      border-color: transparent;\n",
              "      border-right-color: var(--fill-color);\n",
              "      border-bottom-color: var(--fill-color);\n",
              "    }\n",
              "    90% {\n",
              "      border-color: transparent;\n",
              "      border-bottom-color: var(--fill-color);\n",
              "    }\n",
              "  }\n",
              "</style>\n",
              "\n",
              "  <script>\n",
              "    async function quickchart(key) {\n",
              "      const quickchartButtonEl =\n",
              "        document.querySelector('#' + key + ' button');\n",
              "      quickchartButtonEl.disabled = true;  // To prevent multiple clicks.\n",
              "      quickchartButtonEl.classList.add('colab-df-spinner');\n",
              "      try {\n",
              "        const charts = await google.colab.kernel.invokeFunction(\n",
              "            'suggestCharts', [key], {});\n",
              "      } catch (error) {\n",
              "        console.error('Error during call to suggestCharts:', error);\n",
              "      }\n",
              "      quickchartButtonEl.classList.remove('colab-df-spinner');\n",
              "      quickchartButtonEl.classList.add('colab-df-quickchart-complete');\n",
              "    }\n",
              "    (() => {\n",
              "      let quickchartButtonEl =\n",
              "        document.querySelector('#df-de5dcc3c-7213-458f-93e0-c26f7048ab0d button');\n",
              "      quickchartButtonEl.style.display =\n",
              "        google.colab.kernel.accessAllowed ? 'block' : 'none';\n",
              "    })();\n",
              "  </script>\n",
              "</div>\n",
              "\n",
              "    </div>\n",
              "  </div>\n"
            ],
            "application/vnd.google.colaboratory.intrinsic+json": {
              "type": "dataframe",
              "variable_name": "combined_df",
              "summary": "{\n  \"name\": \"combined_df\",\n  \"rows\": 14639,\n  \"fields\": [\n    {\n      \"column\": \"Username\",\n      \"properties\": {\n        \"dtype\": \"category\",\n        \"num_unique_values\": 4479,\n        \"samples\": [\n          \"Arya Bima\",\n          \"Aunisyafia Aunisyafia\",\n          \"Muhammad' Dun\"\n        ],\n        \"semantic_type\": \"\",\n        \"description\": \"\"\n      }\n    },\n    {\n      \"column\": \"Rating\",\n      \"properties\": {\n        \"dtype\": \"number\",\n        \"std\": 1,\n        \"min\": 1,\n        \"max\": 5,\n        \"num_unique_values\": 5,\n        \"samples\": [\n          5,\n          4,\n          3\n        ],\n        \"semantic_type\": \"\",\n        \"description\": \"\"\n      }\n    },\n    {\n      \"column\": \"Review\",\n      \"properties\": {\n        \"dtype\": \"string\",\n        \"num_unique_values\": 13393,\n        \"samples\": [\n          \"mantaap lanjut...lazada maju terus\",\n          \"e-commerce besar,tapi pelit ongkir\",\n          \"Pelayan busuk mending shope apa toped aja aman\"\n        ],\n        \"semantic_type\": \"\",\n        \"description\": \"\"\n      }\n    },\n    {\n      \"column\": \"App\",\n      \"properties\": {\n        \"dtype\": \"category\",\n        \"num_unique_values\": 3,\n        \"samples\": [\n          \"Shopee\",\n          \"Tokopedia\",\n          \"Lazada\"\n        ],\n        \"semantic_type\": \"\",\n        \"description\": \"\"\n      }\n    }\n  ]\n}"
            }
          },
          "metadata": {},
          "execution_count": 10
        }
      ]
    },
    {
      "cell_type": "markdown",
      "source": [
        "**Analisa:**\n",
        "\n",
        "Pada tahap ini dilakukan pembersihan data dengan menghapus review yang kosong, menghapus duplikat berdasarkan Username dan Review, serta menghapus spasi di awal/akhir teks review."
      ],
      "metadata": {
        "id": "0S953_GjnNAn"
      }
    },
    {
      "cell_type": "markdown",
      "source": [
        "## 4. Menyimpan dan Mengunduh Dataset Akhir"
      ],
      "metadata": {
        "id": "uhzBwr6YqLDq"
      }
    },
    {
      "cell_type": "code",
      "source": [
        "#Menyimpan dataframe ke file csv\n",
        "combined_df.to_csv('ecommerce_reviews_labeled.csv', index=False)\n",
        "\n",
        "#Mengunduh file ke lokal\n",
        "files.download('ecommerce_reviews_labeled.csv')"
      ],
      "metadata": {
        "colab": {
          "base_uri": "https://localhost:8080/",
          "height": 17
        },
        "id": "u5PsBrad1EaJ",
        "outputId": "ac4fefe4-bfa8-4ce5-d13b-31fe1b07a34a"
      },
      "execution_count": null,
      "outputs": [
        {
          "output_type": "display_data",
          "data": {
            "text/plain": [
              "<IPython.core.display.Javascript object>"
            ],
            "application/javascript": [
              "\n",
              "    async function download(id, filename, size) {\n",
              "      if (!google.colab.kernel.accessAllowed) {\n",
              "        return;\n",
              "      }\n",
              "      const div = document.createElement('div');\n",
              "      const label = document.createElement('label');\n",
              "      label.textContent = `Downloading \"${filename}\": `;\n",
              "      div.appendChild(label);\n",
              "      const progress = document.createElement('progress');\n",
              "      progress.max = size;\n",
              "      div.appendChild(progress);\n",
              "      document.body.appendChild(div);\n",
              "\n",
              "      const buffers = [];\n",
              "      let downloaded = 0;\n",
              "\n",
              "      const channel = await google.colab.kernel.comms.open(id);\n",
              "      // Send a message to notify the kernel that we're ready.\n",
              "      channel.send({})\n",
              "\n",
              "      for await (const message of channel.messages) {\n",
              "        // Send a message to notify the kernel that we're ready.\n",
              "        channel.send({})\n",
              "        if (message.buffers) {\n",
              "          for (const buffer of message.buffers) {\n",
              "            buffers.push(buffer);\n",
              "            downloaded += buffer.byteLength;\n",
              "            progress.value = downloaded;\n",
              "          }\n",
              "        }\n",
              "      }\n",
              "      const blob = new Blob(buffers, {type: 'application/binary'});\n",
              "      const a = document.createElement('a');\n",
              "      a.href = window.URL.createObjectURL(blob);\n",
              "      a.download = filename;\n",
              "      div.appendChild(a);\n",
              "      a.click();\n",
              "      div.remove();\n",
              "    }\n",
              "  "
            ]
          },
          "metadata": {}
        },
        {
          "output_type": "display_data",
          "data": {
            "text/plain": [
              "<IPython.core.display.Javascript object>"
            ],
            "application/javascript": [
              "download(\"download_d7d0419e-3709-44ce-aa9f-af37704930a5\", \"ecommerce_reviews_labeled.csv\", 1570913)"
            ]
          },
          "metadata": {}
        }
      ]
    },
    {
      "cell_type": "markdown",
      "source": [
        "Analisa:\n",
        "\n",
        "Dataset yang sudah dibersihkan dan dilabel disimpan ke ecommerce_reviews_labeled.csv kemudian diunduh ke lokal untuk proses selanjutnya."
      ],
      "metadata": {
        "id": "U4doQZtipS7O"
      }
    }
  ]
}